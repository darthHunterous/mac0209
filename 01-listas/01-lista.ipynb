{
 "cells": [
  {
   "cell_type": "code",
   "execution_count": 5,
   "metadata": {},
   "outputs": [],
   "source": [
    "import math\n",
    "import matplotlib.pyplot as pyplot\n",
    "\n",
    "def main():\n",
    "    t = 0.0\n",
    "    tf = 2.0\n",
    "    dt = 0.1\n",
    "    \n",
    "    y = 10.0\n",
    "    v = 0.0\n",
    "    g = 9.8\n",
    "    \n",
    "    while (t < tf):\n",
    "        y = y + v*dt\n",
    "        v = v - g*dt\n",
    "        t += dt\n",
    "        print(\"y == \" + y)\n",
    "        print(\"v == \" + v)\n",
    "        print(\"t == \" + t)"
   ]
  },
  {
   "cell_type": "code",
   "execution_count": null,
   "metadata": {},
   "outputs": [],
   "source": []
  }
 ],
 "metadata": {
  "kernelspec": {
   "display_name": "Python 3",
   "language": "python",
   "name": "python3"
  },
  "language_info": {
   "codemirror_mode": {
    "name": "ipython",
    "version": 3
   },
   "file_extension": ".py",
   "mimetype": "text/x-python",
   "name": "python",
   "nbconvert_exporter": "python",
   "pygments_lexer": "ipython3",
   "version": "3.6.4"
  }
 },
 "nbformat": 4,
 "nbformat_minor": 2
}
